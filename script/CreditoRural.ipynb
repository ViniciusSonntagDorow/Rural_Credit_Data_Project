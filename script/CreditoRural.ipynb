{
  "nbformat": 4,
  "nbformat_minor": 0,
  "metadata": {
    "colab": {
      "provenance": []
    },
    "kernelspec": {
      "name": "python3",
      "display_name": "Python 3"
    },
    "language_info": {
      "name": "python"
    }
  },
  "cells": [
    {
      "cell_type": "markdown",
      "source": [
        "Libraries"
      ],
      "metadata": {
        "id": "JJ-fAVlHZ72Y"
      }
    },
    {
      "cell_type": "code",
      "execution_count": 1,
      "metadata": {
        "id": "hCZVelY75RQx"
      },
      "outputs": [],
      "source": [
        "import pandas as pd\n",
        "import requests"
      ]
    },
    {
      "cell_type": "markdown",
      "source": [
        "API call"
      ],
      "metadata": {
        "id": "BP5ZTg8KaDY9"
      }
    },
    {
      "cell_type": "code",
      "source": [
        "url = 'https://olinda.bcb.gov.br/olinda/servico/SICOR/versao/v2/odata/CusteioMunicipioProduto?$top=100&$format=json'\n",
        "response = requests.get(url).json()"
      ],
      "metadata": {
        "id": "77zAn2qe5n7U"
      },
      "execution_count": 2,
      "outputs": []
    },
    {
      "cell_type": "markdown",
      "source": [
        "Raw dataframe"
      ],
      "metadata": {
        "id": "_bpc3GeIaMil"
      }
    },
    {
      "cell_type": "code",
      "source": [
        "df = pd.DataFrame.from_dict(response['value'])"
      ],
      "metadata": {
        "id": "e7JOwVDJEFTg"
      },
      "execution_count": 3,
      "outputs": []
    },
    {
      "cell_type": "markdown",
      "source": [
        "Create date column"
      ],
      "metadata": {
        "id": "dqsP56UpaRi6"
      }
    },
    {
      "cell_type": "code",
      "source": [
        "df['cdData'] = df['MesEmissao'] + \"-\" + df['AnoEmissao']\n",
        "df.drop( columns = ['MesEmissao', 'AnoEmissao'], inplace = True )\n",
        "df['cdData'] = pd.to_datetime(df['cdData'], format = '%m-%Y')"
      ],
      "metadata": {
        "id": "gqp0q4LjI-0h"
      },
      "execution_count": 4,
      "outputs": []
    },
    {
      "cell_type": "markdown",
      "source": [
        "Set types accordingly"
      ],
      "metadata": {
        "id": "NVnPSoF-hvcf"
      }
    },
    {
      "cell_type": "code",
      "source": [
        "df[['Atividade', \n",
        "    'cdPrograma', \n",
        "    'cdSubPrograma', \n",
        "    'cdFonteRecurso', \n",
        "    'cdTipoSeguro', \n",
        "    'cdEstado', \n",
        "    'cdProduto', \n",
        "    'codCadMu', \n",
        "    'cdModalidade', \n",
        "    'codIbge']] = df[['Atividade',\n",
        "                      'cdPrograma', \n",
        "                      'cdSubPrograma', \n",
        "                      'cdFonteRecurso', \n",
        "                      'cdTipoSeguro', \n",
        "                      'cdEstado', \n",
        "                      'cdProduto', \n",
        "                      'codCadMu', \n",
        "                      'cdModalidade', \n",
        "                      'codIbge']].astype('int64')"
      ],
      "metadata": {
        "id": "Db78PNnuZdxf"
      },
      "execution_count": 9,
      "outputs": []
    },
    {
      "cell_type": "code",
      "source": [
        "df.info()"
      ],
      "metadata": {
        "id": "n5JIUtR1aqjW",
        "outputId": "c94ad7e3-d622-46ee-b074-13fb815dc3fb",
        "colab": {
          "base_uri": "https://localhost:8080/"
        }
      },
      "execution_count": 10,
      "outputs": [
        {
          "output_type": "stream",
          "name": "stdout",
          "text": [
            "<class 'pandas.core.frame.DataFrame'>\n",
            "RangeIndex: 100 entries, 0 to 99\n",
            "Data columns (total 15 columns):\n",
            " #   Column          Non-Null Count  Dtype         \n",
            "---  ------          --------------  -----         \n",
            " 0   Municipio       100 non-null    object        \n",
            " 1   nomeProduto     100 non-null    object        \n",
            " 2   cdPrograma      100 non-null    int64         \n",
            " 3   cdSubPrograma   100 non-null    int64         \n",
            " 4   cdFonteRecurso  100 non-null    int64         \n",
            " 5   cdTipoSeguro    100 non-null    int64         \n",
            " 6   cdEstado        100 non-null    int64         \n",
            " 7   VlCusteio       100 non-null    float64       \n",
            " 8   cdProduto       100 non-null    int64         \n",
            " 9   codCadMu        100 non-null    int64         \n",
            " 10  Atividade       100 non-null    int64         \n",
            " 11  cdModalidade    100 non-null    int64         \n",
            " 12  codIbge         100 non-null    int64         \n",
            " 13  AreaCusteio     100 non-null    float64       \n",
            " 14  cdData          100 non-null    datetime64[ns]\n",
            "dtypes: datetime64[ns](1), float64(2), int64(10), object(2)\n",
            "memory usage: 11.8+ KB\n"
          ]
        }
      ]
    },
    {
      "cell_type": "code",
      "source": [
        "df.head()"
      ],
      "metadata": {
        "id": "k3kN5GIDatFL",
        "outputId": "3112d1b4-315b-41f0-8597-b816cbec1882",
        "colab": {
          "base_uri": "https://localhost:8080/",
          "height": 206
        }
      },
      "execution_count": 8,
      "outputs": [
        {
          "output_type": "execute_result",
          "data": {
            "text/plain": [
              "          Municipio nomeProduto  cdPrograma  cdSubPrograma  cdFonteRecurso  \\\n",
              "0         ABADIÂNIA   \"BOVINOS\"         999              0             503   \n",
              "1        LUZILÂNDIA   \"BOVINOS\"           1             56             502   \n",
              "2         GURINHATÃ   \"BOVINOS\"          50              0             201   \n",
              "3  SERRA DA SAUDADE   \"BOVINOS\"         999              0             430   \n",
              "4            SABINO    \"TOMATE\"         999              0             201   \n",
              "\n",
              "   cdTipoSeguro  cdEstado   VlCusteio  cdProduto  codCadMu Atividade  \\\n",
              "0             3        10    87961.05       1300     24615         2   \n",
              "1             9        18     5000.00       1300     22813         2   \n",
              "2             9        12  1082876.53       1300      4714         2   \n",
              "3             9        12    37344.00       1300     16128         2   \n",
              "4             3        27   240730.07       6940      5218         1   \n",
              "\n",
              "   cdModalidade  codIbge  AreaCusteio     cdData  \n",
              "0            26  5200100          0.0 2018-05-01  \n",
              "1            26  2205805          0.0 2018-07-01  \n",
              "2            26  3129103          0.0 2015-07-01  \n",
              "3            26  3166600          0.0 2016-03-01  \n",
              "4             1  3544608          3.7 2018-03-01  "
            ],
            "text/html": [
              "\n",
              "  <div id=\"df-341c400c-342f-400d-a41f-dcf28f545ba0\">\n",
              "    <div class=\"colab-df-container\">\n",
              "      <div>\n",
              "<style scoped>\n",
              "    .dataframe tbody tr th:only-of-type {\n",
              "        vertical-align: middle;\n",
              "    }\n",
              "\n",
              "    .dataframe tbody tr th {\n",
              "        vertical-align: top;\n",
              "    }\n",
              "\n",
              "    .dataframe thead th {\n",
              "        text-align: right;\n",
              "    }\n",
              "</style>\n",
              "<table border=\"1\" class=\"dataframe\">\n",
              "  <thead>\n",
              "    <tr style=\"text-align: right;\">\n",
              "      <th></th>\n",
              "      <th>Municipio</th>\n",
              "      <th>nomeProduto</th>\n",
              "      <th>cdPrograma</th>\n",
              "      <th>cdSubPrograma</th>\n",
              "      <th>cdFonteRecurso</th>\n",
              "      <th>cdTipoSeguro</th>\n",
              "      <th>cdEstado</th>\n",
              "      <th>VlCusteio</th>\n",
              "      <th>cdProduto</th>\n",
              "      <th>codCadMu</th>\n",
              "      <th>Atividade</th>\n",
              "      <th>cdModalidade</th>\n",
              "      <th>codIbge</th>\n",
              "      <th>AreaCusteio</th>\n",
              "      <th>cdData</th>\n",
              "    </tr>\n",
              "  </thead>\n",
              "  <tbody>\n",
              "    <tr>\n",
              "      <th>0</th>\n",
              "      <td>ABADIÂNIA</td>\n",
              "      <td>\"BOVINOS\"</td>\n",
              "      <td>999</td>\n",
              "      <td>0</td>\n",
              "      <td>503</td>\n",
              "      <td>3</td>\n",
              "      <td>10</td>\n",
              "      <td>87961.05</td>\n",
              "      <td>1300</td>\n",
              "      <td>24615</td>\n",
              "      <td>2</td>\n",
              "      <td>26</td>\n",
              "      <td>5200100</td>\n",
              "      <td>0.0</td>\n",
              "      <td>2018-05-01</td>\n",
              "    </tr>\n",
              "    <tr>\n",
              "      <th>1</th>\n",
              "      <td>LUZILÂNDIA</td>\n",
              "      <td>\"BOVINOS\"</td>\n",
              "      <td>1</td>\n",
              "      <td>56</td>\n",
              "      <td>502</td>\n",
              "      <td>9</td>\n",
              "      <td>18</td>\n",
              "      <td>5000.00</td>\n",
              "      <td>1300</td>\n",
              "      <td>22813</td>\n",
              "      <td>2</td>\n",
              "      <td>26</td>\n",
              "      <td>2205805</td>\n",
              "      <td>0.0</td>\n",
              "      <td>2018-07-01</td>\n",
              "    </tr>\n",
              "    <tr>\n",
              "      <th>2</th>\n",
              "      <td>GURINHATÃ</td>\n",
              "      <td>\"BOVINOS\"</td>\n",
              "      <td>50</td>\n",
              "      <td>0</td>\n",
              "      <td>201</td>\n",
              "      <td>9</td>\n",
              "      <td>12</td>\n",
              "      <td>1082876.53</td>\n",
              "      <td>1300</td>\n",
              "      <td>4714</td>\n",
              "      <td>2</td>\n",
              "      <td>26</td>\n",
              "      <td>3129103</td>\n",
              "      <td>0.0</td>\n",
              "      <td>2015-07-01</td>\n",
              "    </tr>\n",
              "    <tr>\n",
              "      <th>3</th>\n",
              "      <td>SERRA DA SAUDADE</td>\n",
              "      <td>\"BOVINOS\"</td>\n",
              "      <td>999</td>\n",
              "      <td>0</td>\n",
              "      <td>430</td>\n",
              "      <td>9</td>\n",
              "      <td>12</td>\n",
              "      <td>37344.00</td>\n",
              "      <td>1300</td>\n",
              "      <td>16128</td>\n",
              "      <td>2</td>\n",
              "      <td>26</td>\n",
              "      <td>3166600</td>\n",
              "      <td>0.0</td>\n",
              "      <td>2016-03-01</td>\n",
              "    </tr>\n",
              "    <tr>\n",
              "      <th>4</th>\n",
              "      <td>SABINO</td>\n",
              "      <td>\"TOMATE\"</td>\n",
              "      <td>999</td>\n",
              "      <td>0</td>\n",
              "      <td>201</td>\n",
              "      <td>3</td>\n",
              "      <td>27</td>\n",
              "      <td>240730.07</td>\n",
              "      <td>6940</td>\n",
              "      <td>5218</td>\n",
              "      <td>1</td>\n",
              "      <td>1</td>\n",
              "      <td>3544608</td>\n",
              "      <td>3.7</td>\n",
              "      <td>2018-03-01</td>\n",
              "    </tr>\n",
              "  </tbody>\n",
              "</table>\n",
              "</div>\n",
              "      <button class=\"colab-df-convert\" onclick=\"convertToInteractive('df-341c400c-342f-400d-a41f-dcf28f545ba0')\"\n",
              "              title=\"Convert this dataframe to an interactive table.\"\n",
              "              style=\"display:none;\">\n",
              "        \n",
              "  <svg xmlns=\"http://www.w3.org/2000/svg\" height=\"24px\"viewBox=\"0 0 24 24\"\n",
              "       width=\"24px\">\n",
              "    <path d=\"M0 0h24v24H0V0z\" fill=\"none\"/>\n",
              "    <path d=\"M18.56 5.44l.94 2.06.94-2.06 2.06-.94-2.06-.94-.94-2.06-.94 2.06-2.06.94zm-11 1L8.5 8.5l.94-2.06 2.06-.94-2.06-.94L8.5 2.5l-.94 2.06-2.06.94zm10 10l.94 2.06.94-2.06 2.06-.94-2.06-.94-.94-2.06-.94 2.06-2.06.94z\"/><path d=\"M17.41 7.96l-1.37-1.37c-.4-.4-.92-.59-1.43-.59-.52 0-1.04.2-1.43.59L10.3 9.45l-7.72 7.72c-.78.78-.78 2.05 0 2.83L4 21.41c.39.39.9.59 1.41.59.51 0 1.02-.2 1.41-.59l7.78-7.78 2.81-2.81c.8-.78.8-2.07 0-2.86zM5.41 20L4 18.59l7.72-7.72 1.47 1.35L5.41 20z\"/>\n",
              "  </svg>\n",
              "      </button>\n",
              "      \n",
              "  <style>\n",
              "    .colab-df-container {\n",
              "      display:flex;\n",
              "      flex-wrap:wrap;\n",
              "      gap: 12px;\n",
              "    }\n",
              "\n",
              "    .colab-df-convert {\n",
              "      background-color: #E8F0FE;\n",
              "      border: none;\n",
              "      border-radius: 50%;\n",
              "      cursor: pointer;\n",
              "      display: none;\n",
              "      fill: #1967D2;\n",
              "      height: 32px;\n",
              "      padding: 0 0 0 0;\n",
              "      width: 32px;\n",
              "    }\n",
              "\n",
              "    .colab-df-convert:hover {\n",
              "      background-color: #E2EBFA;\n",
              "      box-shadow: 0px 1px 2px rgba(60, 64, 67, 0.3), 0px 1px 3px 1px rgba(60, 64, 67, 0.15);\n",
              "      fill: #174EA6;\n",
              "    }\n",
              "\n",
              "    [theme=dark] .colab-df-convert {\n",
              "      background-color: #3B4455;\n",
              "      fill: #D2E3FC;\n",
              "    }\n",
              "\n",
              "    [theme=dark] .colab-df-convert:hover {\n",
              "      background-color: #434B5C;\n",
              "      box-shadow: 0px 1px 3px 1px rgba(0, 0, 0, 0.15);\n",
              "      filter: drop-shadow(0px 1px 2px rgba(0, 0, 0, 0.3));\n",
              "      fill: #FFFFFF;\n",
              "    }\n",
              "  </style>\n",
              "\n",
              "      <script>\n",
              "        const buttonEl =\n",
              "          document.querySelector('#df-341c400c-342f-400d-a41f-dcf28f545ba0 button.colab-df-convert');\n",
              "        buttonEl.style.display =\n",
              "          google.colab.kernel.accessAllowed ? 'block' : 'none';\n",
              "\n",
              "        async function convertToInteractive(key) {\n",
              "          const element = document.querySelector('#df-341c400c-342f-400d-a41f-dcf28f545ba0');\n",
              "          const dataTable =\n",
              "            await google.colab.kernel.invokeFunction('convertToInteractive',\n",
              "                                                     [key], {});\n",
              "          if (!dataTable) return;\n",
              "\n",
              "          const docLinkHtml = 'Like what you see? Visit the ' +\n",
              "            '<a target=\"_blank\" href=https://colab.research.google.com/notebooks/data_table.ipynb>data table notebook</a>'\n",
              "            + ' to learn more about interactive tables.';\n",
              "          element.innerHTML = '';\n",
              "          dataTable['output_type'] = 'display_data';\n",
              "          await google.colab.output.renderOutput(dataTable, element);\n",
              "          const docLink = document.createElement('div');\n",
              "          docLink.innerHTML = docLinkHtml;\n",
              "          element.appendChild(docLink);\n",
              "        }\n",
              "      </script>\n",
              "    </div>\n",
              "  </div>\n",
              "  "
            ]
          },
          "metadata": {},
          "execution_count": 8
        }
      ]
    },
    {
      "cell_type": "markdown",
      "source": [
        "Export to csv"
      ],
      "metadata": {
        "id": "h7884A55iSx9"
      }
    },
    {
      "cell_type": "code",
      "source": [
        "df.to_csv(index = False)"
      ],
      "metadata": {
        "id": "hjnWM6udicmt"
      },
      "execution_count": null,
      "outputs": []
    }
  ]
}