{
 "cells": [
  {
   "attachments": {},
   "cell_type": "markdown",
   "metadata": {
    "id": "JJ-fAVlHZ72Y"
   },
   "source": [
    "Libraries"
   ]
  },
  {
   "cell_type": "code",
   "execution_count": 1,
   "metadata": {
    "ExecuteTime": {
     "end_time": "2023-05-23T03:29:54.044325700Z",
     "start_time": "2023-05-23T03:29:54.030341Z"
    },
    "id": "hCZVelY75RQx"
   },
   "outputs": [],
   "source": [
    "import pandas as pd\n",
    "import requests"
   ]
  },
  {
   "attachments": {},
   "cell_type": "markdown",
   "metadata": {
    "id": "BP5ZTg8KaDY9"
   },
   "source": [
    "API call"
   ]
  },
  {
   "cell_type": "code",
   "execution_count": 2,
   "metadata": {
    "ExecuteTime": {
     "end_time": "2023-05-23T03:29:54.296615100Z",
     "start_time": "2023-05-23T03:29:54.046846Z"
    },
    "id": "77zAn2qe5n7U"
   },
   "outputs": [],
   "source": [
    "url = 'https://olinda.bcb.gov.br/olinda/servico/SICOR/versao/v2/odata/CusteioMunicipioProduto?$format=json'\n",
    "response = requests.get(url).json()"
   ]
  },
  {
   "attachments": {},
   "cell_type": "markdown",
   "metadata": {
    "id": "_bpc3GeIaMil"
   },
   "source": [
    "Raw dataframe"
   ]
  },
  {
   "cell_type": "code",
   "execution_count": 3,
   "metadata": {
    "ExecuteTime": {
     "end_time": "2023-05-23T03:29:54.312648800Z",
     "start_time": "2023-05-23T03:29:54.298618400Z"
    },
    "id": "e7JOwVDJEFTg"
   },
   "outputs": [],
   "source": [
    "df = pd.DataFrame.from_dict(response['value'])"
   ]
  },
  {
   "attachments": {},
   "cell_type": "markdown",
   "metadata": {
    "id": "dqsP56UpaRi6"
   },
   "source": [
    "Create date column"
   ]
  },
  {
   "cell_type": "code",
   "execution_count": 4,
   "metadata": {
    "ExecuteTime": {
     "end_time": "2023-05-23T03:29:54.344024700Z",
     "start_time": "2023-05-23T03:29:54.317638500Z"
    },
    "id": "gqp0q4LjI-0h"
   },
   "outputs": [],
   "source": [
    "df['cdData'] = df['MesEmissao'] + \"-\" + df['AnoEmissao']\n",
    "df.drop( columns = ['MesEmissao', 'AnoEmissao'], inplace = True )\n",
    "df['cdData'] = pd.to_datetime(df['cdData'], format = '%m-%Y')"
   ]
  },
  {
   "attachments": {},
   "cell_type": "markdown",
   "metadata": {
    "id": "NVnPSoF-hvcf"
   },
   "source": [
    "Set types accordingly"
   ]
  },
  {
   "cell_type": "code",
   "execution_count": 5,
   "metadata": {
    "ExecuteTime": {
     "end_time": "2023-05-23T03:29:54.346025900Z",
     "start_time": "2023-05-23T03:29:54.332246400Z"
    },
    "id": "Db78PNnuZdxf"
   },
   "outputs": [],
   "source": [
    "df[['Atividade', \n",
    "    'cdPrograma', \n",
    "    'cdSubPrograma', \n",
    "    'cdFonteRecurso', \n",
    "    'cdTipoSeguro', \n",
    "    'cdEstado', \n",
    "    'cdProduto', \n",
    "    'codCadMu', \n",
    "    'cdModalidade', \n",
    "    'codIbge']] = df[['Atividade',\n",
    "                      'cdPrograma', \n",
    "                      'cdSubPrograma', \n",
    "                      'cdFonteRecurso', \n",
    "                      'cdTipoSeguro', \n",
    "                      'cdEstado', \n",
    "                      'cdProduto', \n",
    "                      'codCadMu', \n",
    "                      'cdModalidade', \n",
    "                      'codIbge']].astype('int64')"
   ]
  },
  {
   "cell_type": "code",
   "execution_count": 6,
   "metadata": {
    "ExecuteTime": {
     "end_time": "2023-05-23T03:29:54.360172400Z",
     "start_time": "2023-05-23T03:29:54.351535300Z"
    },
    "colab": {
     "base_uri": "https://localhost:8080/"
    },
    "id": "n5JIUtR1aqjW",
    "outputId": "c94ad7e3-d622-46ee-b074-13fb815dc3fb"
   },
   "outputs": [
    {
     "name": "stdout",
     "output_type": "stream",
     "text": [
      "<class 'pandas.core.frame.DataFrame'>\n",
      "RangeIndex: 100 entries, 0 to 99\n",
      "Data columns (total 15 columns):\n",
      " #   Column          Non-Null Count  Dtype         \n",
      "---  ------          --------------  -----         \n",
      " 0   Municipio       100 non-null    object        \n",
      " 1   nomeProduto     100 non-null    object        \n",
      " 2   cdPrograma      100 non-null    int64         \n",
      " 3   cdSubPrograma   100 non-null    int64         \n",
      " 4   cdFonteRecurso  100 non-null    int64         \n",
      " 5   cdTipoSeguro    100 non-null    int64         \n",
      " 6   cdEstado        100 non-null    int64         \n",
      " 7   VlCusteio       100 non-null    float64       \n",
      " 8   cdProduto       100 non-null    int64         \n",
      " 9   codCadMu        100 non-null    int64         \n",
      " 10  Atividade       100 non-null    int64         \n",
      " 11  cdModalidade    100 non-null    int64         \n",
      " 12  codIbge         100 non-null    int64         \n",
      " 13  AreaCusteio     100 non-null    float64       \n",
      " 14  cdData          100 non-null    datetime64[ns]\n",
      "dtypes: datetime64[ns](1), float64(2), int64(10), object(2)\n",
      "memory usage: 11.8+ KB\n"
     ]
    }
   ],
   "source": [
    "df.info()"
   ]
  },
  {
   "cell_type": "code",
   "execution_count": 7,
   "metadata": {
    "ExecuteTime": {
     "end_time": "2023-05-23T03:29:54.404317700Z",
     "start_time": "2023-05-23T03:29:54.360172400Z"
    },
    "colab": {
     "base_uri": "https://localhost:8080/",
     "height": 206
    },
    "id": "k3kN5GIDatFL",
    "outputId": "3112d1b4-315b-41f0-8597-b816cbec1882"
   },
   "outputs": [
    {
     "data": {
      "text/html": [
       "<div>\n",
       "<style scoped>\n",
       "    .dataframe tbody tr th:only-of-type {\n",
       "        vertical-align: middle;\n",
       "    }\n",
       "\n",
       "    .dataframe tbody tr th {\n",
       "        vertical-align: top;\n",
       "    }\n",
       "\n",
       "    .dataframe thead th {\n",
       "        text-align: right;\n",
       "    }\n",
       "</style>\n",
       "<table border=\"1\" class=\"dataframe\">\n",
       "  <thead>\n",
       "    <tr style=\"text-align: right;\">\n",
       "      <th></th>\n",
       "      <th>Municipio</th>\n",
       "      <th>nomeProduto</th>\n",
       "      <th>cdPrograma</th>\n",
       "      <th>cdSubPrograma</th>\n",
       "      <th>cdFonteRecurso</th>\n",
       "      <th>cdTipoSeguro</th>\n",
       "      <th>cdEstado</th>\n",
       "      <th>VlCusteio</th>\n",
       "      <th>cdProduto</th>\n",
       "      <th>codCadMu</th>\n",
       "      <th>Atividade</th>\n",
       "      <th>cdModalidade</th>\n",
       "      <th>codIbge</th>\n",
       "      <th>AreaCusteio</th>\n",
       "      <th>cdData</th>\n",
       "    </tr>\n",
       "  </thead>\n",
       "  <tbody>\n",
       "    <tr>\n",
       "      <th>0</th>\n",
       "      <td>ABADIÂNIA</td>\n",
       "      <td>\"BOVINOS\"</td>\n",
       "      <td>999</td>\n",
       "      <td>0</td>\n",
       "      <td>503</td>\n",
       "      <td>3</td>\n",
       "      <td>10</td>\n",
       "      <td>87961.05</td>\n",
       "      <td>1300</td>\n",
       "      <td>24615</td>\n",
       "      <td>2</td>\n",
       "      <td>26</td>\n",
       "      <td>5200100</td>\n",
       "      <td>0.0</td>\n",
       "      <td>2018-05-01</td>\n",
       "    </tr>\n",
       "    <tr>\n",
       "      <th>1</th>\n",
       "      <td>LUZILÂNDIA</td>\n",
       "      <td>\"BOVINOS\"</td>\n",
       "      <td>1</td>\n",
       "      <td>56</td>\n",
       "      <td>502</td>\n",
       "      <td>9</td>\n",
       "      <td>18</td>\n",
       "      <td>5000.00</td>\n",
       "      <td>1300</td>\n",
       "      <td>22813</td>\n",
       "      <td>2</td>\n",
       "      <td>26</td>\n",
       "      <td>2205805</td>\n",
       "      <td>0.0</td>\n",
       "      <td>2018-07-01</td>\n",
       "    </tr>\n",
       "    <tr>\n",
       "      <th>2</th>\n",
       "      <td>GURINHATÃ</td>\n",
       "      <td>\"BOVINOS\"</td>\n",
       "      <td>50</td>\n",
       "      <td>0</td>\n",
       "      <td>201</td>\n",
       "      <td>9</td>\n",
       "      <td>12</td>\n",
       "      <td>1082876.53</td>\n",
       "      <td>1300</td>\n",
       "      <td>4714</td>\n",
       "      <td>2</td>\n",
       "      <td>26</td>\n",
       "      <td>3129103</td>\n",
       "      <td>0.0</td>\n",
       "      <td>2015-07-01</td>\n",
       "    </tr>\n",
       "    <tr>\n",
       "      <th>3</th>\n",
       "      <td>SERRA DA SAUDADE</td>\n",
       "      <td>\"BOVINOS\"</td>\n",
       "      <td>999</td>\n",
       "      <td>0</td>\n",
       "      <td>430</td>\n",
       "      <td>9</td>\n",
       "      <td>12</td>\n",
       "      <td>37344.00</td>\n",
       "      <td>1300</td>\n",
       "      <td>16128</td>\n",
       "      <td>2</td>\n",
       "      <td>26</td>\n",
       "      <td>3166600</td>\n",
       "      <td>0.0</td>\n",
       "      <td>2016-03-01</td>\n",
       "    </tr>\n",
       "    <tr>\n",
       "      <th>4</th>\n",
       "      <td>SABINO</td>\n",
       "      <td>\"TOMATE\"</td>\n",
       "      <td>999</td>\n",
       "      <td>0</td>\n",
       "      <td>201</td>\n",
       "      <td>3</td>\n",
       "      <td>27</td>\n",
       "      <td>240730.07</td>\n",
       "      <td>6940</td>\n",
       "      <td>5218</td>\n",
       "      <td>1</td>\n",
       "      <td>1</td>\n",
       "      <td>3544608</td>\n",
       "      <td>3.7</td>\n",
       "      <td>2018-03-01</td>\n",
       "    </tr>\n",
       "  </tbody>\n",
       "</table>\n",
       "</div>"
      ],
      "text/plain": [
       "          Municipio nomeProduto  cdPrograma  cdSubPrograma  cdFonteRecurso  \\\n",
       "0         ABADIÂNIA   \"BOVINOS\"         999              0             503   \n",
       "1        LUZILÂNDIA   \"BOVINOS\"           1             56             502   \n",
       "2         GURINHATÃ   \"BOVINOS\"          50              0             201   \n",
       "3  SERRA DA SAUDADE   \"BOVINOS\"         999              0             430   \n",
       "4            SABINO    \"TOMATE\"         999              0             201   \n",
       "\n",
       "   cdTipoSeguro  cdEstado   VlCusteio  cdProduto  codCadMu  Atividade  \\\n",
       "0             3        10    87961.05       1300     24615          2   \n",
       "1             9        18     5000.00       1300     22813          2   \n",
       "2             9        12  1082876.53       1300      4714          2   \n",
       "3             9        12    37344.00       1300     16128          2   \n",
       "4             3        27   240730.07       6940      5218          1   \n",
       "\n",
       "   cdModalidade  codIbge  AreaCusteio     cdData  \n",
       "0            26  5200100          0.0 2018-05-01  \n",
       "1            26  2205805          0.0 2018-07-01  \n",
       "2            26  3129103          0.0 2015-07-01  \n",
       "3            26  3166600          0.0 2016-03-01  \n",
       "4             1  3544608          3.7 2018-03-01  "
      ]
     },
     "execution_count": 7,
     "metadata": {},
     "output_type": "execute_result"
    }
   ],
   "source": [
    "df.head()"
   ]
  },
  {
   "attachments": {},
   "cell_type": "markdown",
   "metadata": {
    "id": "h7884A55iSx9"
   },
   "source": [
    "Export to csv"
   ]
  },
  {
   "cell_type": "code",
   "execution_count": 10,
   "metadata": {
    "ExecuteTime": {
     "end_time": "2023-05-23T03:29:54.407869300Z",
     "start_time": "2023-05-23T03:29:54.392287700Z"
    },
    "id": "hjnWM6udicmt"
   },
   "outputs": [],
   "source": [
    "df.to_csv(\"Credito_Rural.csv\", index=False)"
   ]
  }
 ],
 "metadata": {
  "colab": {
   "provenance": []
  },
  "kernelspec": {
   "display_name": "Python 3 (ipykernel)",
   "language": "python",
   "name": "python3"
  },
  "language_info": {
   "codemirror_mode": {
    "name": "ipython",
    "version": 3
   },
   "file_extension": ".py",
   "mimetype": "text/x-python",
   "name": "python",
   "nbconvert_exporter": "python",
   "pygments_lexer": "ipython3",
   "version": "3.10.9"
  }
 },
 "nbformat": 4,
 "nbformat_minor": 0
}
